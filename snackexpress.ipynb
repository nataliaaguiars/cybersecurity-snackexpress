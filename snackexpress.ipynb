{
 "cells": [
  {
   "cell_type": "code",
   "execution_count": 5,
   "id": "e96805b9-1308-42aa-9c24-af03cd1d776f",
   "metadata": {},
   "outputs": [
    {
     "name": "stdout",
     "output_type": "stream",
     "text": [
      "Arquivo 'logs_snackexpress.csv' criado com sucesso!\n"
     ]
    }
   ],
   "source": [
    "import pandas as pd\n",
    "import random\n",
    "from datetime import datetime, timedelta\n",
    "\n",
    "# Lista de IPs (alguns normais, outros suspeitos)\n",
    "ips = ['192.168.0.1', '192.168.0.2', '10.0.0.5', '10.0.0.6', '172.16.0.10', '203.0.113.1', '203.0.113.2', '198.51.100.5']\n",
    "\n",
    "# Lista de CPFs fictícios (apenas números sequenciais para exemplo)\n",
    "cpfs = [f\"{10000000000 + i}\" for i in range(1, 51)]\n",
    "\n",
    "# Tipos de requisição possíveis\n",
    "tipos_requisicao = ['Consulta Pedido', 'Alteração Endereço', 'Consulta CPF']\n",
    "\n",
    "# Função para gerar data e hora aleatória nos últimos 7 dias\n",
    "def random_datetime():\n",
    "    base = datetime.now()\n",
    "    delta = timedelta(days=random.randint(0, 6), hours=random.randint(0, 23), minutes=random.randint(0, 59), seconds=random.randint(0, 59))\n",
    "    return (base - delta).strftime('%Y-%m-%d %H:%M:%S')\n",
    "\n",
    "# Criar lista para armazenar os logs\n",
    "logs = []\n",
    "\n",
    "# Gerar logs normais\n",
    "for _ in range(300):\n",
    "    ip = random.choice(ips[:6])  # IPs normais\n",
    "    cpf = random.choice(cpfs)\n",
    "    req = random.choice(tipos_requisicao)\n",
    "    data_hora = random_datetime()\n",
    "    logs.append([ip, cpf, req, data_hora])\n",
    "\n",
    "# Gerar logs suspeitos: IP suspeito acessando muitos CPFs\n",
    "ip_suspeito = ips[6]  # ex: '203.0.113.2'\n",
    "for _ in range(50):\n",
    "    cpf = random.choice(cpfs)\n",
    "    req = random.choice(tipos_requisicao)\n",
    "    data_hora = random_datetime()\n",
    "    logs.append([ip_suspeito, cpf, req, data_hora])\n",
    "\n",
    "# Criar DataFrame e salvar CSV\n",
    "df_logs = pd.DataFrame(logs, columns=['ip', 'cpf_acessado', 'tipo_requisicao', 'data_hora'])\n",
    "df_logs.to_csv('logs_snackexpress.csv', index=False)\n",
    "\n",
    "print(\"Arquivo 'logs_snackexpress.csv' criado com sucesso!\")\n"
   ]
  },
  {
   "cell_type": "code",
   "execution_count": 6,
   "id": "201fc5ec-d4c3-498b-a912-939b8ce34025",
   "metadata": {},
   "outputs": [
    {
     "name": "stdout",
     "output_type": "stream",
     "text": [
      "🔍 Primeiros registros:\n",
      "            ip  cpf_acessado  tipo_requisicao            data_hora\n",
      "0  192.168.0.2   10000000034  Consulta Pedido  2025-06-14 20:57:38\n",
      "1  172.16.0.10   10000000034  Consulta Pedido  2025-06-08 18:17:08\n",
      "2  203.0.113.1   10000000012     Consulta CPF  2025-06-15 11:37:33\n",
      "3     10.0.0.6   10000000016     Consulta CPF  2025-06-08 16:57:16\n",
      "4  172.16.0.10   10000000007  Consulta Pedido  2025-06-11 21:22:36 \n",
      "\n",
      "📌 Informações do DataFrame:\n",
      "<class 'pandas.core.frame.DataFrame'>\n",
      "RangeIndex: 350 entries, 0 to 349\n",
      "Data columns (total 4 columns):\n",
      " #   Column           Non-Null Count  Dtype \n",
      "---  ------           --------------  ----- \n",
      " 0   ip               350 non-null    object\n",
      " 1   cpf_acessado     350 non-null    int64 \n",
      " 2   tipo_requisicao  350 non-null    object\n",
      " 3   data_hora        350 non-null    object\n",
      "dtypes: int64(1), object(3)\n",
      "memory usage: 11.1+ KB\n",
      "None\n"
     ]
    }
   ],
   "source": [
    "import pandas as pd\n",
    "\n",
    "#Leitura do CSV\n",
    "df = pd.read_csv('logs_snackexpress.csv')\n",
    "\n",
    "# Ver primeiras linhas\n",
    "print(\"🔍 Primeiros registros:\")\n",
    "print(df.head(), \"\\n\")\n",
    "\n",
    "# Ver estrutura geral\n",
    "print(\"📌 Informações do DataFrame:\")\n",
    "print(df.info())"
   ]
  },
  {
   "cell_type": "code",
   "execution_count": 8,
   "id": "59c84fab-1cc6-4614-a216-61890007cffd",
   "metadata": {},
   "outputs": [
    {
     "name": "stdout",
     "output_type": "stream",
     "text": [
      "📊 CPFs únicos acessados por IP:\n",
      "ip\n",
      "10.0.0.5       34\n",
      "192.168.0.2    32\n",
      "10.0.0.6       31\n",
      "172.16.0.10    31\n",
      "203.0.113.2    31\n",
      "203.0.113.1    29\n",
      "192.168.0.1    27\n",
      "Name: cpf_acessado, dtype: int64\n"
     ]
    }
   ],
   "source": [
    "# Quantos CPFs únicos cada IP acessou\n",
    "acessos_por_ip = df.groupby('ip')['cpf_acessado'].nunique().sort_values(ascending=False)\n",
    "\n",
    "print(\"📊 CPFs únicos acessados por IP:\")\n",
    "print(acessos_por_ip)"
   ]
  },
  {
   "cell_type": "code",
   "execution_count": 9,
   "id": "22fce15f-afa5-4c88-8953-0ca8bfcfa060",
   "metadata": {},
   "outputs": [
    {
     "name": "stderr",
     "output_type": "stream",
     "text": [
      "C:\\Users\\Na\\AppData\\Local\\Temp\\ipykernel_18508\\1466471906.py:6: FutureWarning: \n",
      "\n",
      "Passing `palette` without assigning `hue` is deprecated and will be removed in v0.14.0. Assign the `x` variable to `hue` and set `legend=False` for the same effect.\n",
      "\n",
      "  sns.barplot(x=acessos_por_ip.index, y=acessos_por_ip.values, palette='Reds_r')\n"
     ]
    },
    {
     "data": {
      "image/png": "[encoded data removed]",
      "text/plain": [
       "<Figure size 1000x500 with 1 Axes>"
      ]
     },
     "metadata": {},
     "output_type": "display_data"
    }
   ],
   "source": [
    "import matplotlib.pyplot as plt\n",
    "import seaborn as sns\n",
    "\n",
    "# Estilo de gráfico\n",
    "plt.figure(figsize=(10,5))\n",
    "sns.barplot(x=acessos_por_ip.index, y=acessos_por_ip.values, palette='Reds_r')\n",
    "plt.title('Número de CPFs únicos acessados por IP')\n",
    "plt.xlabel('IP')\n",
    "plt.ylabel('CPFs únicos')\n",
    "plt.xticks(rotation=45)\n",
    "plt.tight_layout()\n",
    "plt.show()"
   ]
  },
  {
   "cell_type": "code",
   "execution_count": 10,
   "id": "cbfcd6a4-1afa-4d63-bb8b-cac9dcad9757",
   "metadata": {},
   "outputs": [
    {
     "name": "stdout",
     "output_type": "stream",
     "text": [
      "🚨 Ips com comportamento suspeito:\n",
      "ip\n",
      "10.0.0.5       34\n",
      "192.168.0.2    32\n",
      "10.0.0.6       31\n",
      "172.16.0.10    31\n",
      "203.0.113.2    31\n",
      "203.0.113.1    29\n",
      "192.168.0.1    27\n",
      "Name: cpf_acessado, dtype: int64\n"
     ]
    }
   ],
   "source": [
    "# IPs Suspeitos\n",
    "suspeitos = acessos_por_ip[acessos_por_ip > 20]\n",
    "print(\"🚨 Ips com comportamento suspeito:\")\n",
    "print(suspeitos)"
   ]
  },
  {
   "cell_type": "code",
   "execution_count": null,
   "id": "96429ad9-8621-4c68-bc83-49727aaf659c",
   "metadata": {},
   "outputs": [],
   "source": []
  }
 ],
 "metadata": {
  "kernelspec": {
   "display_name": "Python 3 (ipykernel)",
   "language": "python",
   "name": "python3"
  },
  "language_info": {
   "codemirror_mode": {
    "name": "ipython",
    "version": 3
   },
   "file_extension": ".py",
   "mimetype": "text/x-python",
   "name": "python",
   "nbconvert_exporter": "python",
   "pygments_lexer": "ipython3",
   "version": "3.13.5"
  }
 },
 "nbformat": 4,
 "nbformat_minor": 5
}
